{
 "cells": [
  {
   "cell_type": "code",
   "execution_count": 1,
   "id": "984be503-4534-4dd3-95f3-ea86243a596f",
   "metadata": {
    "tags": []
   },
   "outputs": [],
   "source": [
    "import sys\n",
    "import os\n",
    "from pathlib import Path\n",
    "sys.path.append(str(Path(\".\").absolute().parent))\n",
    "sys.path.append(str(Path(\".\").absolute().parent) + \"/src/pipeline/pipeline_utils\")\n",
    "import pipeline_utils \n",
    "import argparse\n",
    "import datetime\n",
    "import pytz\n",
    "from mlflow_image import decryption "
   ]
  },
  {
   "cell_type": "code",
   "execution_count": 2,
   "id": "b0fda0c2-4299-4a16-b5b5-0cbbceee9750",
   "metadata": {
    "tags": []
   },
   "outputs": [
    {
     "name": "stdout",
     "output_type": "stream",
     "text": [
      "2024-12-03 08:01:32\n"
     ]
    }
   ],
   "source": [
    "print(datetime.datetime.now(pytz.timezone(\"US/Central\")).strftime(\"%Y-%m-%d %H:%M:%S\"))\n"
   ]
  },
  {
   "cell_type": "code",
   "execution_count": 3,
   "id": "3696f487-0013-49c5-99d9-c6f0312685d8",
   "metadata": {
    "tags": []
   },
   "outputs": [
    {
     "name": "stderr",
     "output_type": "stream",
     "text": [
      "usage: ipykernel_launcher.py [-h] --COMMIT_ID COMMIT_ID --BRANCH BRANCH\n",
      "                             [--is_prod IS_PROD]\n",
      "ipykernel_launcher.py: error: the following arguments are required: --COMMIT_ID, --BRANCH\n"
     ]
    }
   ],
   "source": [
    "try:\n",
    "    args = pipeline_utils.MarkdownArgs().get_args()\n",
    "except:\n",
    "    parser = argparse.ArgumentParser()\n",
    "    parser.add_argument(\"--COMMIT_ID\", required=True, type=str)\n",
    "    parser.add_argument(\"--BRANCH\", required=True, type=str)\n",
    "    parser.add_argument(\"--is_prod\", required=False, type=lambda x: (str(x).lower() == 'true'))\n",
    "    sys.args = [\n",
    "        \"--COMMIT_ID\", \"1234\",\n",
    "        \"--BRANCH\", \"dev\",\n",
    "        \"--is_prod\", \"False\",\n",
    "    ]\n",
    "    args = parser.parse_args(sys.args)"
   ]
  },
  {
   "cell_type": "code",
   "execution_count": 4,
   "id": "4a4f3ad8-4dc3-4251-a4f4-6d4c3ea4d6db",
   "metadata": {
    "tags": []
   },
   "outputs": [],
   "source": [
    "\n",
    "PARAMS = pipeline_utils.YamlImport(\"settings.yml\").yaml_import()\n",
    "\n",
    "\n",
    "BRANCH_ID = args.BRANCH\n",
    "is_prod = args.is_prod"
   ]
  },
  {
   "cell_type": "code",
   "execution_count": 5,
   "id": "70203e0f-e312-426a-adbd-3cd90bfb5cd4",
   "metadata": {
    "tags": []
   },
   "outputs": [
    {
     "data": {
      "text/plain": [
       "'dev'"
      ]
     },
     "execution_count": 5,
     "metadata": {},
     "output_type": "execute_result"
    }
   ],
   "source": [
    "if BRANCH_ID == \"stage\" and is_prod == True:\n",
    "    BRANCH_ID = \"prod\"\n",
    "    \n",
    "ENV = BRANCH_ID\n",
    "ENV\n"
   ]
  },
  {
   "cell_type": "code",
   "execution_count": 6,
   "id": "ecd3d781-b942-4af1-89e6-eabdc40d55b3",
   "metadata": {
    "tags": []
   },
   "outputs": [
    {
     "ename": "ImportError",
     "evalue": "cannot import name 'secretmanager' from 'google.cloud' (unknown location)",
     "output_type": "error",
     "traceback": [
      "\u001b[0;31m---------------------------------------------------------------------------\u001b[0m",
      "\u001b[0;31mImportError\u001b[0m                               Traceback (most recent call last)",
      "Cell \u001b[0;32mIn[6], line 8\u001b[0m\n\u001b[1;32m      4\u001b[0m MLFLOW_IMAGE \u001b[38;5;241m=\u001b[39m PARAM[\u001b[38;5;124m\"\u001b[39m\u001b[38;5;124mMLFLOW_IMAGE\u001b[39m\u001b[38;5;124m\"\u001b[39m]\n\u001b[1;32m      6\u001b[0m PIPELINE_ROOT \u001b[38;5;241m=\u001b[39m PARAM[\u001b[38;5;124m\"\u001b[39m\u001b[38;5;124mPIPELINE_ROOT\u001b[39m\u001b[38;5;124m\"\u001b[39m]\n\u001b[0;32m----> 8\u001b[0m decryption_obj \u001b[38;5;241m=\u001b[39m \u001b[43mdecryption\u001b[49m\u001b[38;5;241;43m.\u001b[39;49m\u001b[43mAccessSecret\u001b[49m\u001b[43m(\u001b[49m\u001b[43m)\u001b[49m\n\u001b[1;32m      9\u001b[0m ELEMENT_PROJECT_ID \u001b[38;5;241m=\u001b[39m decryption_obj\u001b[38;5;241m.\u001b[39maccess_secret(PROJECT_ID, \u001b[38;5;124m\"\u001b[39m\u001b[38;5;124mELEMENT_PROJECT_ID\u001b[39m\u001b[38;5;124m\"\u001b[39m, \u001b[38;5;124m\"\u001b[39m\u001b[38;5;124mlatest\u001b[39m\u001b[38;5;124m\"\u001b[39m)\n\u001b[1;32m     10\u001b[0m ELEMENT_PROJECT_TOKEN \u001b[38;5;241m=\u001b[39m decryption_obj\u001b[38;5;241m.\u001b[39maccess_secret(PROJECT_ID, \u001b[38;5;124m\"\u001b[39m\u001b[38;5;124mELEMENT_PROJECT_TOKEN\u001b[39m\u001b[38;5;124m\"\u001b[39m, \u001b[38;5;124m\"\u001b[39m\u001b[38;5;124mlatest\u001b[39m\u001b[38;5;124m\"\u001b[39m)\n",
      "File \u001b[0;32m~/md_training_pipeline/custom_images/mlflow_image/decryption.py:4\u001b[0m, in \u001b[0;36mAccessSecret.__init__\u001b[0;34m(self)\u001b[0m\n\u001b[1;32m      3\u001b[0m \u001b[38;5;28;01mdef\u001b[39;00m \u001b[38;5;21m__init__\u001b[39m(\u001b[38;5;28mself\u001b[39m):\n\u001b[0;32m----> 4\u001b[0m     \u001b[38;5;28;01mfrom\u001b[39;00m \u001b[38;5;21;01mgoogle\u001b[39;00m\u001b[38;5;21;01m.\u001b[39;00m\u001b[38;5;21;01mcloud\u001b[39;00m \u001b[38;5;28;01mimport\u001b[39;00m secretmanager\n\u001b[1;32m      5\u001b[0m     \u001b[38;5;28mself\u001b[39m\u001b[38;5;241m.\u001b[39mclient \u001b[38;5;241m=\u001b[39m secretmanager\u001b[38;5;241m.\u001b[39mSecretManagerServiceClient()\n",
      "\u001b[0;31mImportError\u001b[0m: cannot import name 'secretmanager' from 'google.cloud' (unknown location)"
     ]
    }
   ],
   "source": [
    "PARAM = PARAMS[\"envs\"][ENV]\n",
    "PROJECT_ID = PARAM[\"PROJECT_ID\"]\n",
    "BASE_IMAGE = PARAM[\"BASE_IMAGE\"]\n",
    "MLFLOW_IMAGE = PARAM[\"MLFLOW_IMAGE\"]\n",
    "\n",
    "PIPELINE_ROOT = PARAM[\"PIPELINE_ROOT\"]\n",
    "\n",
    "decryption_obj = decryption.AccessSecret()\n",
    "ELEMENT_PROJECT_ID = decryption_obj.access_secret(PROJECT_ID, \"ELEMENT_PROJECT_ID\", \"latest\")\n",
    "ELEMENT_PROJECT_TOKEN = decryption_obj.access_secret(PROJECT_ID, \"ELEMENT_PROJECT_TOKEN\", \"latest\")\n",
    "ELEMENT_DECRYPTION_KEY = decryption_obj.access_secret(PROJECT_ID, \"ELEMENT_DECRYPTION_KEY\", \"latest\")\n",
    "ELEMENT_DECRYPTED_TOKEN = decryption_obj.decrypt(ELEMENT_DECRYPTION_KEY, ELEMENT_PROJECT_TOKEN)\n",
    "# ELEMENT_TOKEN_DECRYPTED = decryption_obj.access_secret(PROJECT_ID, \"ELEMENT_TOKEN_DECRYPTED\", \"latest\")\n",
    "\n",
    "print(f\"\"\"\n",
    "PROJECT_ID: {PROJECT_ID}, \n",
    "\\nBASE_IMAGE: {BASE_IMAGE},\n",
    "\\nMLFLOW_IMAGE: {MLFLOW_IMAGE},\n",
    "\\nPIPELINE_ROOT: {PIPELINE_ROOT}, \n",
    "\"\"\")"
   ]
  },
  {
   "cell_type": "code",
   "execution_count": 7,
   "id": "84bb91dc-bfb5-44dc-977b-c44a65518b69",
   "metadata": {
    "tags": []
   },
   "outputs": [
    {
     "data": {
      "text/plain": [
       "'gcr.io/wmt-mlp-p-price-npd-pricing/markdown-mlflow-dev:latest'"
      ]
     },
     "execution_count": 7,
     "metadata": {},
     "output_type": "execute_result"
    }
   ],
   "source": [
    "MLFLOW_IMAGE"
   ]
  },
  {
   "cell_type": "code",
   "execution_count": 8,
   "id": "f7a9fc2a-2ac2-4c56-9965-65958bd79c3e",
   "metadata": {
    "tags": []
   },
   "outputs": [
    {
     "name": "stdout",
     "output_type": "stream",
     "text": [
      "invalid argument \"{MLFLOW_IMAGE}\" for \"-t, --tag\" flag: invalid reference format: repository name must be lowercase\n",
      "See 'docker build --help'.\n"
     ]
    }
   ],
   "source": [
    "# %%capture\n",
    "!DOCKER_BUILDKIT=1 docker build --no-cache --progress=plain -t {MLFLOW_IMAGE} . -f ./mlflow_image/Dockerfile \\\n",
    "--build-arg VAR_ELEMENT_PROJECT_ID={ELEMENT_PROJECT_ID} \\\n",
    "--build-arg VAR_ELEMENT_PROJECT_TOKEN={ELEMENT_DECRYPTED_TOKEN} \\\n",
    "--build-arg VAR_ELEMENT_DECRYPTION_KEY={ELEMENT_DECRYPTION_KEY}\n",
    "\n"
   ]
  },
  {
   "cell_type": "code",
   "execution_count": 9,
   "id": "72a81f6a-5279-4074-9851-34e2a4173050",
   "metadata": {
    "tags": []
   },
   "outputs": [
    {
     "name": "stdout",
     "output_type": "stream",
     "text": [
      "The push refers to repository [gcr.io/wmt-mlp-p-price-npd-pricing/markdown-mlflow-dev]\n",
      "An image does not exist locally with the tag: gcr.io/wmt-mlp-p-price-npd-pricing/markdown-mlflow-dev\n"
     ]
    }
   ],
   "source": [
    "!docker push {MLFLOW_IMAGE}\n"
   ]
  },
  {
   "cell_type": "markdown",
   "id": "d4e5569d-aaec-4f8b-b032-bcb93ab9c3ac",
   "metadata": {
    "tags": []
   },
   "source": [
    "## to maintain the boot disk without memory leak. \n"
   ]
  },
  {
   "cell_type": "code",
   "execution_count": 10,
   "id": "fc55d3f2-02a1-471f-b436-1d93d2a862ef",
   "metadata": {
    "tags": []
   },
   "outputs": [
    {
     "name": "stdout",
     "output_type": "stream",
     "text": [
      "Total reclaimed space: 0B\n"
     ]
    }
   ],
   "source": [
    "!docker image prune -f\n"
   ]
  },
  {
   "cell_type": "code",
   "execution_count": null,
   "id": "485e3a89-88d4-491b-b9b5-74aac1c6f25f",
   "metadata": {},
   "outputs": [],
   "source": []
  },
  {
   "cell_type": "code",
   "execution_count": null,
   "id": "393321ed-8147-4907-9a85-4c7c7543fc2d",
   "metadata": {},
   "outputs": [],
   "source": []
  }
 ],
 "metadata": {
  "environment": {
   "kernel": "conda-base-py",
   "name": "workbench-notebooks.m125",
   "type": "gcloud",
   "uri": "us-docker.pkg.dev/deeplearning-platform-release/gcr.io/workbench-notebooks:m125"
  },
  "kernelspec": {
   "display_name": "Python 3 (ipykernel) (Local)",
   "language": "python",
   "name": "conda-base-py"
  },
  "language_info": {
   "codemirror_mode": {
    "name": "ipython",
    "version": 3
   },
   "file_extension": ".py",
   "mimetype": "text/x-python",
   "name": "python",
   "nbconvert_exporter": "python",
   "pygments_lexer": "ipython3",
   "version": "3.10.15"
  }
 },
 "nbformat": 4,
 "nbformat_minor": 5
}
